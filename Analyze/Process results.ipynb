{
 "cells": [
  {
   "cell_type": "code",
   "execution_count": 1,
   "id": "e27aff33-118d-419a-9321-9acdcf0a5bf2",
   "metadata": {},
   "outputs": [],
   "source": [
    "import numpy as np\n",
    "import os\n",
    "import cv2\n",
    "import json\n",
    "import pandas as pd\n",
    "from nerfstudio.data.utils.colmap_parsing_utils import *"
   ]
  },
  {
   "cell_type": "markdown",
   "id": "47a00fd5-e32e-4969-b195-fa9059c57cf6",
   "metadata": {},
   "source": [
    "# Functions"
   ]
  },
  {
   "cell_type": "code",
   "execution_count": 2,
   "id": "2667bf27-844d-4b76-bff6-ea180892d436",
   "metadata": {},
   "outputs": [],
   "source": [
    "def compute_laplacian(images_paths):\n",
    "    varis = []\n",
    "    for k, image_path in enumerate(os.listdir(images_paths)):\n",
    "        # if image_path.endswith('.jpg'):\n",
    "        if image_path.endswith('.png'):\n",
    "            image = cv2.imread(os.path.join(images_paths, image_path))\n",
    "            gray = cv2.cvtColor(image, cv2.COLOR_BGR2GRAY)\n",
    "            var = cv2.Laplacian(gray, cv2.CV_64F).var()\n",
    "            varis.append(var)\n",
    "            if k % 50 == 0:\n",
    "                print_progress_bar(k, len(os.listdir(images_paths)))\n",
    "    varis = np.array(varis)\n",
    "    return varis\n",
    "\n",
    "def print_progress_bar(iteration, total, bar_length=50):\n",
    "    progress = (iteration / total)\n",
    "    arrow = '█'\n",
    "    spaces = ' ' * (bar_length - int(progress * bar_length))\n",
    "    print(f'\\rProgress: [{arrow * int(progress * bar_length)}{spaces}] {progress * 100:.2f}%', end='', flush=True)\n",
    "\n",
    "def extract_time(time_file, content=None, nerfacto=True, splatfacto=True):\n",
    "    with open(time_file) as file:\n",
    "        df = pd.read_csv(file, sep='\\s+')\n",
    "    files = list(df[df['1'] == 'COLMAP']['2'])\n",
    "    times = [*map(float, list(df[df['1'] == 'time:']['2']))]\n",
    "    iterations = [*map(int, list(df[df['1'] == 'colmap_iterations:']['2']))]\n",
    "    content = {}\n",
    "    for k in range(len(files)):\n",
    "        content[files[k]] = {}\n",
    "        content[files[k]]['colmap'] = {}\n",
    "        content[files[k]]['colmap']['time'] = times[k]\n",
    "        content[files[k]]['colmap']['repetitions'] = iterations[k]\n",
    "    if nerfacto:    \n",
    "        files = list(df[df['1'] == 'nerfacto']['2'])\n",
    "        for k in range(len(files), len(files) + len(files)):\n",
    "            content[files[k-len(files)]]['nerfacto'] = {}\n",
    "            content[files[k-len(files)]]['nerfacto']['time'] = times[k]\n",
    "        if splatfacto:\n",
    "            files = list(df[df['1'] == 'splatfacto']['2'])\n",
    "            for k in range(len(files) + len(files), len(files) + len(files) + len(files)):\n",
    "                content[files[k-len(files) - len(files)]]['splatfacto'] = {}\n",
    "                content[files[k-len(files) - len(files)]]['splatfacto']['time'] = times[k]\n",
    "    else:\n",
    "        if splatfacto:\n",
    "            files = list(df[df['1'] == 'splatfacto']['2'])\n",
    "        for k in range(len(files), len(files) + len(files)):\n",
    "            content[files[k-len(files)]]['splatfacto'] = {}\n",
    "            content[files[k-len(files)]]['splatfacto']['time'] = times[k]\n",
    "            \n",
    "    return content\n",
    "\n",
    "def count_number_images(path, content):\n",
    "    for key in content.keys():\n",
    "        diri = os.path.join(path, key, 'images')\n",
    "        content[key]['number_images'] = len(os.listdir(diri))\n",
    "        diri_colmap = os.path.join(path, key, 'colmap/sparse')\n",
    "        if len(os.listdir(diri_colmap)) > 1 or len(os.listdir(diri_colmap)) == 0:\n",
    "            content[key]['errado'] = True\n",
    "        else:\n",
    "            content[key]['errado'] = False\n",
    "\n",
    "def add_evaluations(path, content, nerfacto=True, splatfacto=True):\n",
    "    elems = [*range(10000, 100000, 10000)]\n",
    "    elems.append(99999)\n",
    "    for key in content.keys():\n",
    "        if nerfacto:\n",
    "            # Nerfacto\n",
    "            if content[key]['nerfacto'].get('metrics') is None:\n",
    "                content[key]['nerfacto']['metrics'] = {}\n",
    "            if os.path.exists(os.path.join(path, key)):\n",
    "                for elem in elems:\n",
    "                    if os.path.exists(os.path.join(path, key, 'output_'+ str(elem) + '.json')):\n",
    "                        with open(os.path.join(path, key, 'output_'+ str(elem) + '.json')) as file:\n",
    "                            data = json.load(file)\n",
    "                        if content[key]['nerfacto']['metrics'].get(elem) is None:\n",
    "                            content[key]['nerfacto']['metrics'][elem] = {}\n",
    "                        content[key]['nerfacto']['metrics'][elem]['psnr'] = data['results']['psnr']\n",
    "                        content[key]['nerfacto']['metrics'][elem]['psnr_std'] = data['results']['psnr_std']\n",
    "                        content[key]['nerfacto']['metrics'][elem]['ssim'] = data['results']['ssim']\n",
    "                        content[key]['nerfacto']['metrics'][elem]['ssim_std'] = data['results']['ssim_std']\n",
    "                        content[key]['nerfacto']['metrics'][elem]['lpips'] = data['results']['lpips']\n",
    "                        content[key]['nerfacto']['metrics'][elem]['lpips_std'] = data['results']['lpips_std']\n",
    "                        content[key]['nerfacto']['metrics'][elem]['num_rays_per_sec'] = data['results']['num_rays_per_sec']\n",
    "                        content[key]['nerfacto']['metrics'][elem]['num_rays_per_sec_std'] = data['results']['num_rays_per_sec_std']\n",
    "                        content[key]['nerfacto']['metrics'][elem]['fps'] = data['results']['fps']\n",
    "                        content[key]['nerfacto']['metrics'][elem]['fps_std'] = data['results']['fps_std']\n",
    "        if splatfacto:\n",
    "            # Splatfacto\n",
    "            if content[key]['splatfacto'].get('metrics') is None:\n",
    "                content[key]['splatfacto']['metrics'] = {}\n",
    "            if os.path.exists(os.path.join(path + '_splatfacto', key)):\n",
    "                for elem in elems:\n",
    "                    if os.path.exists(os.path.join(path + '_splatfacto', key, 'output_'+ str(elem) + '.json')):\n",
    "                        with open(os.path.join(path + '_splatfacto', key, 'output_'+ str(elem) + '.json')) as file:\n",
    "                            data = json.load(file)\n",
    "                        if content[key]['splatfacto']['metrics'].get(elem) is None:\n",
    "                            content[key]['splatfacto']['metrics'][elem] = {}\n",
    "                        content[key]['splatfacto']['metrics'][elem]['psnr'] = data['results']['psnr']\n",
    "                        content[key]['splatfacto']['metrics'][elem]['psnr_std'] = data['results']['psnr_std']\n",
    "                        content[key]['splatfacto']['metrics'][elem]['ssim'] = data['results']['ssim']\n",
    "                        content[key]['splatfacto']['metrics'][elem]['ssim_std'] = data['results']['ssim_std']\n",
    "                        content[key]['splatfacto']['metrics'][elem]['lpips'] = data['results']['lpips']\n",
    "                        content[key]['splatfacto']['metrics'][elem]['lpips_std'] = data['results']['lpips_std']\n",
    "                        content[key]['splatfacto']['metrics'][elem]['num_rays_per_sec'] = data['results']['num_rays_per_sec']\n",
    "                        content[key]['splatfacto']['metrics'][elem]['num_rays_per_sec_std'] = data['results']['num_rays_per_sec_std']\n",
    "                        content[key]['splatfacto']['metrics'][elem]['fps'] = data['results']['fps']\n",
    "                        content[key]['splatfacto']['metrics'][elem]['fps_std'] = data['results']['fps_std']\n",
    "\n",
    "def add_laplacians(path, content):\n",
    "    for k, key in enumerate(content.keys()):\n",
    "        print(f'\\n{k} feitos')\n",
    "        diri = os.path.join(path, key, 'images')\n",
    "        values = compute_laplacian(diri)\n",
    "        content[key]['laplacians'] = values.tolist()\n",
    "\n",
    "def add_ram(path, content, nerfacto=True, splatfacto=True):\n",
    "    # colmap\n",
    "    diri = os.path.join(path, 'colmap', 'RAM')\n",
    "    for k, key in enumerate(content.keys()):\n",
    "        with open(os.path.join(diri, key + '_ram.txt')) as file:\n",
    "            df = pd.read_csv(file, sep='\\s+')\n",
    "        df = df.loc['Mem.:']\n",
    "        total = np.array(df['total']).astype(np.float32)\n",
    "        usada = np.array(df['usada']).astype(np.float32)\n",
    "        livre = np.array(df['livre']).astype(np.float32)\n",
    "        compart = np.array(df['compart.']).astype(np.float32)\n",
    "        buff_cache = np.array(df['buff/cache']).astype(np.float32)\n",
    "        disponivel = np.array(df['disponível']).astype(np.float32)\n",
    "        used = (total - disponivel) / 1e6 # in Gb\n",
    "        content[key]['colmap']['ram'] = used.tolist()\n",
    "        print_progress_bar(k, len(content))\n",
    "\n",
    "    print('\\n')\n",
    "\n",
    "    if nerfacto:\n",
    "        # nerfacto\n",
    "        diri = os.path.join(path, 'nerfacto', 'RAM')\n",
    "        for k, key in enumerate(content.keys()):\n",
    "            with open(os.path.join(diri, key + '_ram.txt')) as file:\n",
    "                df = pd.read_csv(file, sep='\\s+')\n",
    "            df = df.loc['Mem.:']\n",
    "            total = np.array(df['total']).astype(np.float32)\n",
    "            usada = np.array(df['usada']).astype(np.float32)\n",
    "            livre = np.array(df['livre']).astype(np.float32)\n",
    "            compart = np.array(df['compart.']).astype(np.float32)\n",
    "            buff_cache = np.array(df['buff/cache']).astype(np.float32)\n",
    "            disponivel = np.array(df['disponível']).astype(np.float32)\n",
    "            used = (total - disponivel) / 1e6 # in Gb\n",
    "            content[key]['nerfacto']['ram'] = used.tolist()\n",
    "            print_progress_bar(k, len(content))\n",
    "\n",
    "    print('\\n')\n",
    "\n",
    "    if splatfacto:\n",
    "        # splatfacto\n",
    "        diri = os.path.join(path, 'splatfacto', 'RAM')\n",
    "        for k, key in enumerate(content.keys()):\n",
    "            with open(os.path.join(diri, key + '_ram.txt')) as file:\n",
    "                df = pd.read_csv(file, sep='\\s+')\n",
    "            df = df.loc['Mem.:']\n",
    "            total = np.array(df['total']).astype(np.float32)\n",
    "            usada = np.array(df['usada']).astype(np.float32)\n",
    "            livre = np.array(df['livre']).astype(np.float32)\n",
    "            compart = np.array(df['compart.']).astype(np.float32)\n",
    "            buff_cache = np.array(df['buff/cache']).astype(np.float32)\n",
    "            disponivel = np.array(df['disponível']).astype(np.float32)\n",
    "            used = (total - disponivel) / 1e6 # in Gb\n",
    "            content[key]['splatfacto']['ram'] = used.tolist()\n",
    "            print_progress_bar(k, len(content))\n",
    "\n",
    "def add_gpu(path, content, nerfacto=True, splatfacto=True):\n",
    "    # colmap\n",
    "    diri = os.path.join(path, 'colmap', 'GPU')\n",
    "    for k, key in enumerate(content.keys()):\n",
    "        with open(os.path.join(diri, key + '_gpu.txt')) as file:\n",
    "            df = pd.read_csv(file, sep='\\s+', header=None)\n",
    "        content[key]['colmap']['gpu'] = list(df[0])\n",
    "        print_progress_bar(k, len(content))\n",
    "    \n",
    "    print('\\n')\n",
    "\n",
    "    if nerfacto:\n",
    "        # nerfacto\n",
    "        diri = os.path.join(path, 'nerfacto', 'GPU')\n",
    "        for k, key in enumerate(content.keys()):\n",
    "            with open(os.path.join(diri, key + '_gpu.txt')) as file:\n",
    "                df = pd.read_csv(file, sep='\\s+', header=None)\n",
    "            content[key]['nerfacto']['gpu'] = list(df[0])\n",
    "            print_progress_bar(k, len(content))\n",
    "\n",
    "    print('\\n')\n",
    "\n",
    "    if splatfacto:\n",
    "        # splatfacto\n",
    "        diri = os.path.join(path, 'splatfacto', 'GPU')\n",
    "        for k, key in enumerate(content.keys()):\n",
    "            with open(os.path.join(diri, key + '_gpu.txt')) as file:\n",
    "                df = pd.read_csv(file, sep='\\s+', header=None)\n",
    "            content[key]['splatfacto']['gpu'] = list(df[0])\n",
    "            print_progress_bar(k, len(content))\n",
    "\n",
    "def add_percentage_images(path, content, pilot_study=True):\n",
    "    files = []\n",
    "    for file in os.listdir(path):\n",
    "        if os.path.isdir(os.path.join(path, file)) and not file.startswith('.'):\n",
    "            files.append(file)\n",
    "    if pilot_study:\n",
    "        for k, file in enumerate(files):    \n",
    "            vec = []\n",
    "            for i in range(1,11):\n",
    "                image_path = os.path.join(path, file, 'teste_' + str(i) + '/colmap/sparse/0/images.bin')\n",
    "                if os.path.exists(image_path):\n",
    "                    vec.append(len(read_images_binary(image_path)))\n",
    "            print_progress_bar(k, len(files))\n",
    "            vec = np.array(vec) / content[file]['number_images'] * 100\n",
    "            content[file]['percentage_frames'] = vec.tolist()\n",
    "            content[file]['percentage'] = sum(i for i in vec if i == 100) / 10"
   ]
  },
  {
   "cell_type": "markdown",
   "id": "e150fb1b-1a68-4828-af70-aefca6d11bdf",
   "metadata": {},
   "source": [
    "# Preprocessing and data saving"
   ]
  },
  {
   "cell_type": "markdown",
   "id": "2dbaba72-37b5-410c-8e3d-0d2341908f02",
   "metadata": {},
   "source": [
    "## Extract time"
   ]
  },
  {
   "cell_type": "code",
   "execution_count": 28,
   "id": "6fc9a7be-b0b7-4a97-ac67-36603682967f",
   "metadata": {},
   "outputs": [],
   "source": [
    "content = extract_time('../../new gaussians/tempo_gasto.txt', nerfacto=True, splatfacto=False)"
   ]
  },
  {
   "cell_type": "markdown",
   "id": "2eee1fb8-51dc-4a33-9cef-7291cc336144",
   "metadata": {},
   "source": [
    "## Extract number of frames"
   ]
  },
  {
   "cell_type": "code",
   "execution_count": 34,
   "id": "3f8d53c7-b4cb-42d4-b90a-6fc43b6ba3ef",
   "metadata": {},
   "outputs": [],
   "source": [
    "videos_path = '/media/user/0E94B37D94B365BD/Users/user/Documents/new_gaussians'\n",
    "count_number_images(videos_path, content)"
   ]
  },
  {
   "cell_type": "markdown",
   "id": "93ae25f4-7d04-4b34-9aff-d2a4b8f0b5d0",
   "metadata": {},
   "source": [
    "## Extract RAM"
   ]
  },
  {
   "cell_type": "code",
   "execution_count": 29,
   "id": "cfa7f13b-0da3-432f-89c3-5da5d72f9819",
   "metadata": {},
   "outputs": [
    {
     "name": "stdout",
     "output_type": "stream",
     "text": [
      "Progress: [█████████████████████████████████████             ] 75.00%\n",
      "\n",
      "\n",
      "\n",
      "Progress: [█████████████████████████████████████             ] 75.00%"
     ]
    }
   ],
   "source": [
    "ram_path = '/home/user/Documentos/Python/Artigo/new gaussians'\n",
    "add_ram(ram_path, content, nerfacto=True, splatfacto=False)"
   ]
  },
  {
   "cell_type": "markdown",
   "id": "dee3e010-09a3-42a2-9961-ad2548b295c1",
   "metadata": {},
   "source": [
    "## Extract GPU"
   ]
  },
  {
   "cell_type": "code",
   "execution_count": 30,
   "id": "b1ec83e3-430f-4046-89ee-8b4151cf203b",
   "metadata": {},
   "outputs": [
    {
     "name": "stdout",
     "output_type": "stream",
     "text": [
      "Progress: [█████████████████████████████████████             ] 75.00%\n",
      "\n",
      "\n",
      "\n",
      "Progress: [█████████████████████████████████████             ] 75.00%"
     ]
    }
   ],
   "source": [
    "gpu_path = '/home/user/Documentos/Python/Artigo/new gaussians'\n",
    "add_gpu(gpu_path, content, nerfacto=True, splatfacto=False)"
   ]
  },
  {
   "cell_type": "markdown",
   "id": "36dfaecf-4d8f-4309-9ee5-c190a39a4e37",
   "metadata": {},
   "source": [
    "## Extract percentage of right colmaps"
   ]
  },
  {
   "cell_type": "code",
   "execution_count": 31,
   "id": "598e3c24-a13f-40b6-b5b2-01ef612c219c",
   "metadata": {},
   "outputs": [],
   "source": [
    "path = '/media/user/0E94B37D94B365BD/Users/user/Documents/new_gaussians'\n",
    "add_percentage_images(path, content, pilot_study=True)"
   ]
  },
  {
   "cell_type": "markdown",
   "id": "9ef552be-e510-4ab5-9d31-9f70b2437bcc",
   "metadata": {},
   "source": [
    "## Extract laplacians"
   ]
  },
  {
   "cell_type": "code",
   "execution_count": 15,
   "id": "c75e032e-358b-4ff5-b61b-faec9628bad5",
   "metadata": {},
   "outputs": [
    {
     "name": "stdout",
     "output_type": "stream",
     "text": [
      "\n",
      "0 feitos\n",
      "Progress: [█████████████████████████████████████████████████ ] 98.68%\n",
      "1 feitos\n",
      "Progress: [██████████████████████████████████████████████    ] 92.59%\n",
      "2 feitos\n",
      "Progress: [███████████████████████████████████████████       ] 86.46%\n",
      "3 feitos\n",
      "Progress: [██████████████████████████████████████████████    ] 93.75%"
     ]
    }
   ],
   "source": [
    "laplacians_path = '/media/user/0E94B37D94B365BD/Users/user/Documents/new_gaussians'\n",
    "add_laplacians(laplacians_path, content)"
   ]
  },
  {
   "cell_type": "markdown",
   "id": "2c8dd8be-ecdf-4542-b241-60c4d355bf05",
   "metadata": {},
   "source": [
    "## Extract evaluations"
   ]
  },
  {
   "cell_type": "code",
   "execution_count": 32,
   "id": "4df62afb-75c5-4017-bba2-bbcea2d56f11",
   "metadata": {},
   "outputs": [],
   "source": [
    "evaluations_path = '/home/user/Documentos/Python/Artigo/new gaussians/Evaluations'\n",
    "add_evaluations(evaluations_path, content, nerfacto=True, splatfacto=False)"
   ]
  },
  {
   "cell_type": "markdown",
   "id": "c91ca4a0-f895-4213-8888-729847c7a212",
   "metadata": {},
   "source": [
    "## Save data in a .json file"
   ]
  },
  {
   "cell_type": "code",
   "execution_count": 18,
   "id": "436d7688-bbdd-41e2-8dcc-3648fef22ca3",
   "metadata": {},
   "outputs": [],
   "source": [
    "## Save json\n",
    "json_object = json.dumps(content, indent = 2)\n",
    "with open('../../new gaussians/new_gaussians.json', 'w') as file:\n",
    "    file.write(json_object)\n",
    "    file.close()"
   ]
  },
  {
   "cell_type": "code",
   "execution_count": 36,
   "id": "248294f5-be9b-45a4-ad87-d9ca07f2b7ea",
   "metadata": {},
   "outputs": [
    {
     "data": {
      "text/plain": [
       "dict_keys(['time', 'ram', 'gpu', 'metrics'])"
      ]
     },
     "execution_count": 36,
     "metadata": {},
     "output_type": "execute_result"
    }
   ],
   "source": [
    "content['bloco1-volta-completa']['splatfacto'].keys()"
   ]
  }
 ],
 "metadata": {
  "kernelspec": {
   "display_name": "Python 3 (ipykernel)",
   "language": "python",
   "name": "python3"
  },
  "language_info": {
   "codemirror_mode": {
    "name": "ipython",
    "version": 3
   },
   "file_extension": ".py",
   "mimetype": "text/x-python",
   "name": "python",
   "nbconvert_exporter": "python",
   "pygments_lexer": "ipython3",
   "version": "3.10.12"
  }
 },
 "nbformat": 4,
 "nbformat_minor": 5
}
